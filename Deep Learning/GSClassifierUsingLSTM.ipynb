{
  "nbformat": 4,
  "nbformat_minor": 0,
  "metadata": {
    "kernelspec": {
      "display_name": "Python 3",
      "language": "python",
      "name": "python3"
    },
    "language_info": {
      "codemirror_mode": {
        "name": "ipython",
        "version": 3
      },
      "file_extension": ".py",
      "mimetype": "text/x-python",
      "name": "python",
      "nbconvert_exporter": "python",
      "pygments_lexer": "ipython3",
      "version": "3.7.4"
    },
    "colab": {
      "name": "GSClassifierUsingLSTM.ipynb",
      "provenance": []
    },
    "accelerator": "GPU"
  },
  "cells": [
    {
      "cell_type": "code",
      "metadata": {
        "id": "TbM33to370l_"
      },
      "source": [
        "import pandas as pd"
      ],
      "execution_count": null,
      "outputs": []
    },
    {
      "cell_type": "code",
      "metadata": {
        "id": "NyxBYbwo8QiI"
      },
      "source": [
        "from google.colab import drive\n",
        "drive.mount('/content/gdrive')\n",
        "!ln -s /content/gdrive/My\\ Drive/ /mydrive\n",
        "!ls /mydrive"
      ],
      "execution_count": null,
      "outputs": []
    },
    {
      "cell_type": "code",
      "metadata": {
        "id": "9DH0ZsmW70mA"
      },
      "source": [
        "data=pd.read_csv(\"/content/gdrive/MyDrive/Classroom/googleplaystore_user_reviews.csv\")"
      ],
      "execution_count": null,
      "outputs": []
    },
    {
      "cell_type": "code",
      "metadata": {
        "colab": {
          "base_uri": "https://localhost:8080/",
          "height": 202
        },
        "id": "SPCOxOhx70mA",
        "outputId": "20965aa9-13f3-40dd-ad56-cfb582689050"
      },
      "source": [
        "data.head()"
      ],
      "execution_count": null,
      "outputs": [
        {
          "output_type": "execute_result",
          "data": {
            "text/html": [
              "<div>\n",
              "<style scoped>\n",
              "    .dataframe tbody tr th:only-of-type {\n",
              "        vertical-align: middle;\n",
              "    }\n",
              "\n",
              "    .dataframe tbody tr th {\n",
              "        vertical-align: top;\n",
              "    }\n",
              "\n",
              "    .dataframe thead th {\n",
              "        text-align: right;\n",
              "    }\n",
              "</style>\n",
              "<table border=\"1\" class=\"dataframe\">\n",
              "  <thead>\n",
              "    <tr style=\"text-align: right;\">\n",
              "      <th></th>\n",
              "      <th>App</th>\n",
              "      <th>Translated_Review</th>\n",
              "      <th>Sentiment</th>\n",
              "      <th>Sentiment_Polarity</th>\n",
              "      <th>Sentiment_Subjectivity</th>\n",
              "    </tr>\n",
              "  </thead>\n",
              "  <tbody>\n",
              "    <tr>\n",
              "      <th>0</th>\n",
              "      <td>10 Best Foods for You</td>\n",
              "      <td>I like eat delicious food. That's I'm cooking ...</td>\n",
              "      <td>Positive</td>\n",
              "      <td>1.00</td>\n",
              "      <td>0.533333</td>\n",
              "    </tr>\n",
              "    <tr>\n",
              "      <th>1</th>\n",
              "      <td>10 Best Foods for You</td>\n",
              "      <td>This help eating healthy exercise regular basis</td>\n",
              "      <td>Positive</td>\n",
              "      <td>0.25</td>\n",
              "      <td>0.288462</td>\n",
              "    </tr>\n",
              "    <tr>\n",
              "      <th>2</th>\n",
              "      <td>10 Best Foods for You</td>\n",
              "      <td>NaN</td>\n",
              "      <td>NaN</td>\n",
              "      <td>NaN</td>\n",
              "      <td>NaN</td>\n",
              "    </tr>\n",
              "    <tr>\n",
              "      <th>3</th>\n",
              "      <td>10 Best Foods for You</td>\n",
              "      <td>Works great especially going grocery store</td>\n",
              "      <td>Positive</td>\n",
              "      <td>0.40</td>\n",
              "      <td>0.875000</td>\n",
              "    </tr>\n",
              "    <tr>\n",
              "      <th>4</th>\n",
              "      <td>10 Best Foods for You</td>\n",
              "      <td>Best idea us</td>\n",
              "      <td>Positive</td>\n",
              "      <td>1.00</td>\n",
              "      <td>0.300000</td>\n",
              "    </tr>\n",
              "  </tbody>\n",
              "</table>\n",
              "</div>"
            ],
            "text/plain": [
              "                     App  ... Sentiment_Subjectivity\n",
              "0  10 Best Foods for You  ...               0.533333\n",
              "1  10 Best Foods for You  ...               0.288462\n",
              "2  10 Best Foods for You  ...                    NaN\n",
              "3  10 Best Foods for You  ...               0.875000\n",
              "4  10 Best Foods for You  ...               0.300000\n",
              "\n",
              "[5 rows x 5 columns]"
            ]
          },
          "metadata": {
            "tags": []
          },
          "execution_count": 4
        }
      ]
    },
    {
      "cell_type": "code",
      "metadata": {
        "colab": {
          "base_uri": "https://localhost:8080/",
          "height": 355
        },
        "id": "xs-ZF3Ad70mB",
        "outputId": "801cdf67-4c2f-4214-970c-0729f1b7ca6b"
      },
      "source": [
        "df=pd.concat([data.Translated_Review,data.Sentiment],axis=1)\n",
        "df.dropna(axis=0,inplace=True)\n",
        "df.head(10)"
      ],
      "execution_count": null,
      "outputs": [
        {
          "output_type": "execute_result",
          "data": {
            "text/html": [
              "<div>\n",
              "<style scoped>\n",
              "    .dataframe tbody tr th:only-of-type {\n",
              "        vertical-align: middle;\n",
              "    }\n",
              "\n",
              "    .dataframe tbody tr th {\n",
              "        vertical-align: top;\n",
              "    }\n",
              "\n",
              "    .dataframe thead th {\n",
              "        text-align: right;\n",
              "    }\n",
              "</style>\n",
              "<table border=\"1\" class=\"dataframe\">\n",
              "  <thead>\n",
              "    <tr style=\"text-align: right;\">\n",
              "      <th></th>\n",
              "      <th>Translated_Review</th>\n",
              "      <th>Sentiment</th>\n",
              "    </tr>\n",
              "  </thead>\n",
              "  <tbody>\n",
              "    <tr>\n",
              "      <th>0</th>\n",
              "      <td>I like eat delicious food. That's I'm cooking ...</td>\n",
              "      <td>Positive</td>\n",
              "    </tr>\n",
              "    <tr>\n",
              "      <th>1</th>\n",
              "      <td>This help eating healthy exercise regular basis</td>\n",
              "      <td>Positive</td>\n",
              "    </tr>\n",
              "    <tr>\n",
              "      <th>3</th>\n",
              "      <td>Works great especially going grocery store</td>\n",
              "      <td>Positive</td>\n",
              "    </tr>\n",
              "    <tr>\n",
              "      <th>4</th>\n",
              "      <td>Best idea us</td>\n",
              "      <td>Positive</td>\n",
              "    </tr>\n",
              "    <tr>\n",
              "      <th>5</th>\n",
              "      <td>Best way</td>\n",
              "      <td>Positive</td>\n",
              "    </tr>\n",
              "    <tr>\n",
              "      <th>6</th>\n",
              "      <td>Amazing</td>\n",
              "      <td>Positive</td>\n",
              "    </tr>\n",
              "    <tr>\n",
              "      <th>8</th>\n",
              "      <td>Looking forward app,</td>\n",
              "      <td>Neutral</td>\n",
              "    </tr>\n",
              "    <tr>\n",
              "      <th>9</th>\n",
              "      <td>It helpful site ! It help foods get !</td>\n",
              "      <td>Neutral</td>\n",
              "    </tr>\n",
              "    <tr>\n",
              "      <th>10</th>\n",
              "      <td>good you.</td>\n",
              "      <td>Positive</td>\n",
              "    </tr>\n",
              "    <tr>\n",
              "      <th>11</th>\n",
              "      <td>Useful information The amount spelling errors ...</td>\n",
              "      <td>Positive</td>\n",
              "    </tr>\n",
              "  </tbody>\n",
              "</table>\n",
              "</div>"
            ],
            "text/plain": [
              "                                    Translated_Review Sentiment\n",
              "0   I like eat delicious food. That's I'm cooking ...  Positive\n",
              "1     This help eating healthy exercise regular basis  Positive\n",
              "3          Works great especially going grocery store  Positive\n",
              "4                                        Best idea us  Positive\n",
              "5                                            Best way  Positive\n",
              "6                                             Amazing  Positive\n",
              "8                                Looking forward app,   Neutral\n",
              "9               It helpful site ! It help foods get !   Neutral\n",
              "10                                          good you.  Positive\n",
              "11  Useful information The amount spelling errors ...  Positive"
            ]
          },
          "metadata": {
            "tags": []
          },
          "execution_count": 5
        }
      ]
    },
    {
      "cell_type": "code",
      "metadata": {
        "id": "0l_IT8FN9Pev"
      },
      "source": [
        "df.Sentiment=[0 if i==\"Positive\" else 1 if i== \"Negative\" else 2 for i in df.Sentiment]"
      ],
      "execution_count": null,
      "outputs": []
    },
    {
      "cell_type": "code",
      "metadata": {
        "id": "DFxtj6KZ70mC"
      },
      "source": [
        "## Get the Independent Features\n",
        "\n",
        "X=df.drop('Sentiment',axis=1)"
      ],
      "execution_count": null,
      "outputs": []
    },
    {
      "cell_type": "code",
      "metadata": {
        "id": "S7UblT0p70mC"
      },
      "source": [
        "## Get the Dependent features\n",
        "y=df['Sentiment']\n",
        "y"
      ],
      "execution_count": null,
      "outputs": []
    },
    {
      "cell_type": "code",
      "metadata": {
        "colab": {
          "base_uri": "https://localhost:8080/"
        },
        "id": "XdYjr9Vv70mC",
        "outputId": "7055f2fd-7b59-469e-f03a-44b623bc05ed"
      },
      "source": [
        "X.shape"
      ],
      "execution_count": null,
      "outputs": [
        {
          "output_type": "execute_result",
          "data": {
            "text/plain": [
              "(37427, 1)"
            ]
          },
          "metadata": {
            "tags": []
          },
          "execution_count": 9
        }
      ]
    },
    {
      "cell_type": "code",
      "metadata": {
        "colab": {
          "base_uri": "https://localhost:8080/"
        },
        "id": "HpjS_Z6O70mD",
        "outputId": "7e2c59af-fd33-46b2-c19e-382a7d4d0c80"
      },
      "source": [
        "y.shape"
      ],
      "execution_count": null,
      "outputs": [
        {
          "output_type": "execute_result",
          "data": {
            "text/plain": [
              "(37427,)"
            ]
          },
          "metadata": {
            "tags": []
          },
          "execution_count": 10
        }
      ]
    },
    {
      "cell_type": "code",
      "metadata": {
        "id": "G681ycwx70mD"
      },
      "source": [
        "import tensorflow as tf"
      ],
      "execution_count": null,
      "outputs": []
    },
    {
      "cell_type": "code",
      "metadata": {
        "colab": {
          "base_uri": "https://localhost:8080/",
          "height": 35
        },
        "id": "U2kvbO1Y70mE",
        "outputId": "e28e06bd-50ef-47f5-bdfd-73bde96e10e1"
      },
      "source": [
        "tf.__version__"
      ],
      "execution_count": null,
      "outputs": [
        {
          "output_type": "execute_result",
          "data": {
            "application/vnd.google.colaboratory.intrinsic+json": {
              "type": "string"
            },
            "text/plain": [
              "'2.5.0'"
            ]
          },
          "metadata": {
            "tags": []
          },
          "execution_count": 12
        }
      ]
    },
    {
      "cell_type": "code",
      "metadata": {
        "id": "iPdo-FuW70mE"
      },
      "source": [
        "from tensorflow.keras.layers import Embedding\n",
        "from tensorflow.keras.preprocessing.sequence import pad_sequences\n",
        "from tensorflow.keras.models import Sequential\n",
        "from tensorflow.keras.preprocessing.text import one_hot\n",
        "from tensorflow.keras.layers import LSTM\n",
        "from tensorflow.keras.layers import Dense"
      ],
      "execution_count": null,
      "outputs": []
    },
    {
      "cell_type": "code",
      "metadata": {
        "id": "k3Au-Jca70mE"
      },
      "source": [
        "### Vocabulary size\n",
        "voc_size=5000"
      ],
      "execution_count": null,
      "outputs": []
    },
    {
      "cell_type": "code",
      "metadata": {
        "id": "mQKHADVC70mF"
      },
      "source": [
        "messages=X.copy()"
      ],
      "execution_count": null,
      "outputs": []
    },
    {
      "cell_type": "code",
      "metadata": {
        "colab": {
          "base_uri": "https://localhost:8080/",
          "height": 35
        },
        "id": "vOe8XIES70mF",
        "outputId": "7a0580d0-6c16-49b0-a1fa-93c8dd25afd9"
      },
      "source": [
        "messages['Translated_Review'][1]"
      ],
      "execution_count": null,
      "outputs": [
        {
          "output_type": "execute_result",
          "data": {
            "application/vnd.google.colaboratory.intrinsic+json": {
              "type": "string"
            },
            "text/plain": [
              "'This help eating healthy exercise regular basis'"
            ]
          },
          "metadata": {
            "tags": []
          },
          "execution_count": 16
        }
      ]
    },
    {
      "cell_type": "code",
      "metadata": {
        "id": "uOPIW8m570mF"
      },
      "source": [
        "messages.reset_index(inplace=True)"
      ],
      "execution_count": null,
      "outputs": []
    },
    {
      "cell_type": "code",
      "metadata": {
        "id": "DpNR_4Bq70mG"
      },
      "source": [
        "import nltk\n",
        "import re\n",
        "from nltk.corpus import stopwords"
      ],
      "execution_count": null,
      "outputs": []
    },
    {
      "cell_type": "code",
      "metadata": {
        "colab": {
          "base_uri": "https://localhost:8080/"
        },
        "id": "6m8WOq7n70mG",
        "outputId": "a84733d0-5f2a-4759-a696-516ab18ad6d8"
      },
      "source": [
        "nltk.download('stopwords')"
      ],
      "execution_count": null,
      "outputs": [
        {
          "output_type": "stream",
          "text": [
            "[nltk_data] Downloading package stopwords to /root/nltk_data...\n",
            "[nltk_data]   Unzipping corpora/stopwords.zip.\n"
          ],
          "name": "stdout"
        },
        {
          "output_type": "execute_result",
          "data": {
            "text/plain": [
              "True"
            ]
          },
          "metadata": {
            "tags": []
          },
          "execution_count": 19
        }
      ]
    },
    {
      "cell_type": "code",
      "metadata": {
        "id": "ysZL-Whg70mG"
      },
      "source": [
        "### Dataset Preprocessing\n",
        "from nltk.stem.porter import PorterStemmer\n",
        "ps = PorterStemmer()\n",
        "corpus = []\n",
        "for i in range(0, len(messages)):\n",
        "    \n",
        "    review = re.sub('[^a-zA-Z]', ' ', messages['Translated_Review'][i])\n",
        "    review = review.lower()\n",
        "    review = review.split()\n",
        "    \n",
        "    review = [ps.stem(word) for word in review if not word in stopwords.words('english')]\n",
        "    review = ' '.join(review)\n",
        "    corpus.append(review)"
      ],
      "execution_count": null,
      "outputs": []
    },
    {
      "cell_type": "code",
      "metadata": {
        "id": "dHX7zuI670mH"
      },
      "source": [
        "corpus"
      ],
      "execution_count": null,
      "outputs": []
    },
    {
      "cell_type": "code",
      "metadata": {
        "id": "UCl0mFCF70mH"
      },
      "source": [
        "onehot_repr=[one_hot(words,voc_size)for words in corpus] \n",
        "onehot_repr"
      ],
      "execution_count": null,
      "outputs": []
    },
    {
      "cell_type": "markdown",
      "metadata": {
        "id": "yVAuHSfn70mI"
      },
      "source": [
        "### Embedding Representation"
      ]
    },
    {
      "cell_type": "code",
      "metadata": {
        "colab": {
          "base_uri": "https://localhost:8080/"
        },
        "id": "BsgDw-Eu70mI",
        "outputId": "85229de5-9207-4c19-ef74-a5f7649bbe8c"
      },
      "source": [
        "sent_length=40\n",
        "embedded_docs=pad_sequences(onehot_repr,padding='pre',maxlen=sent_length)\n",
        "print(embedded_docs)"
      ],
      "execution_count": null,
      "outputs": [
        {
          "output_type": "stream",
          "text": [
            "[[   0    0    0 ... 4976 1727 2027]\n",
            " [   0    0    0 ... 1564 1781 3295]\n",
            " [   0    0    0 ...  516 1854 2712]\n",
            " ...\n",
            " [   0    0    0 ... 3322  886 1075]\n",
            " [   0    0    0 ...  222 4571  385]\n",
            " [   0    0    0 ... 2844 1380 4647]]\n"
          ],
          "name": "stdout"
        }
      ]
    },
    {
      "cell_type": "code",
      "metadata": {
        "colab": {
          "base_uri": "https://localhost:8080/"
        },
        "id": "nyamhKuR70mI",
        "outputId": "362ba64c-5193-4462-c9a3-cd05e4f27bc5"
      },
      "source": [
        "embedded_docs[0]"
      ],
      "execution_count": null,
      "outputs": [
        {
          "output_type": "execute_result",
          "data": {
            "text/plain": [
              "array([   0,    0,    0,    0,    0,    0,    0,    0,    0,    0,    0,\n",
              "          0,    0,    0,    0,    0,    0,    0,    0,    0,    0,    0,\n",
              "          0,    0,    0, 3644,  631, 2946,  955, 1516,  955, 1428, 4976,\n",
              "        955, 2658, 1275,  826, 4976, 1727, 2027], dtype=int32)"
            ]
          },
          "metadata": {
            "tags": []
          },
          "execution_count": 50
        }
      ]
    },
    {
      "cell_type": "code",
      "metadata": {
        "scrolled": true,
        "colab": {
          "base_uri": "https://localhost:8080/"
        },
        "id": "Ae6kSe6Q70mJ",
        "outputId": "7cb199dd-12ad-4841-d34d-272c57767ca0"
      },
      "source": [
        "## Creating model\n",
        "embedding_vector_features=200\n",
        "model=Sequential()\n",
        "model.add(Embedding(voc_size,embedding_vector_features,input_length=sent_length))\n",
        "model.add(LSTM(100,return_sequences=True))\n",
        "model.add(LSTM(100))\n",
        "model.add(Dense(3,activation='softmax'))\n",
        "model.compile(loss='sparse_categorical_crossentropy',optimizer='adam',metrics=['accuracy'])\n",
        "print(model.summary())"
      ],
      "execution_count": null,
      "outputs": [
        {
          "output_type": "stream",
          "text": [
            "Model: \"sequential_14\"\n",
            "_________________________________________________________________\n",
            "Layer (type)                 Output Shape              Param #   \n",
            "=================================================================\n",
            "embedding_14 (Embedding)     (None, 40, 200)           1000000   \n",
            "_________________________________________________________________\n",
            "lstm_22 (LSTM)               (None, 40, 100)           120400    \n",
            "_________________________________________________________________\n",
            "lstm_23 (LSTM)               (None, 100)               80400     \n",
            "_________________________________________________________________\n",
            "dense_12 (Dense)             (None, 3)                 303       \n",
            "=================================================================\n",
            "Total params: 1,201,103\n",
            "Trainable params: 1,201,103\n",
            "Non-trainable params: 0\n",
            "_________________________________________________________________\n",
            "None\n"
          ],
          "name": "stdout"
        }
      ]
    },
    {
      "cell_type": "code",
      "metadata": {
        "colab": {
          "base_uri": "https://localhost:8080/"
        },
        "id": "RJh8otot70mJ",
        "outputId": "c67db2d7-8a2a-4f6f-8f0f-d497cd7c4961"
      },
      "source": [
        "len(embedded_docs),y.shape"
      ],
      "execution_count": null,
      "outputs": [
        {
          "output_type": "execute_result",
          "data": {
            "text/plain": [
              "(37427, (37427,))"
            ]
          },
          "metadata": {
            "tags": []
          },
          "execution_count": 98
        }
      ]
    },
    {
      "cell_type": "code",
      "metadata": {
        "id": "QdbkNnEN70mJ"
      },
      "source": [
        ""
      ],
      "execution_count": null,
      "outputs": []
    },
    {
      "cell_type": "code",
      "metadata": {
        "id": "gNLIK3dC70mM"
      },
      "source": [
        "import numpy as np\n",
        "X_final=np.array(embedded_docs)\n",
        "y_final=np.array(y)"
      ],
      "execution_count": null,
      "outputs": []
    },
    {
      "cell_type": "code",
      "metadata": {
        "colab": {
          "base_uri": "https://localhost:8080/"
        },
        "id": "yGj9rcz170mM",
        "outputId": "d72eccc3-99bc-4f0f-b81d-1018a469b3e4"
      },
      "source": [
        "X_final.shape,y_final.shape"
      ],
      "execution_count": null,
      "outputs": [
        {
          "output_type": "execute_result",
          "data": {
            "text/plain": [
              "((37427, 40), (37427,))"
            ]
          },
          "metadata": {
            "tags": []
          },
          "execution_count": 100
        }
      ]
    },
    {
      "cell_type": "code",
      "metadata": {
        "id": "2sxntUVV70mM"
      },
      "source": [
        "from sklearn.model_selection import train_test_split\n",
        "X_train, X_test, y_train, y_test = train_test_split(X_final, y_final, test_size=0.33, random_state=42)"
      ],
      "execution_count": null,
      "outputs": []
    },
    {
      "cell_type": "markdown",
      "metadata": {
        "id": "LFrFgzCq70mN"
      },
      "source": [
        "### Model Training"
      ]
    },
    {
      "cell_type": "code",
      "metadata": {
        "colab": {
          "base_uri": "https://localhost:8080/"
        },
        "id": "4uIYYnDa70mN",
        "outputId": "c7168de8-955f-474a-9d3a-3cf8dd185730"
      },
      "source": [
        "### Finally Training\n",
        "model.fit(X_train,y_train,validation_data=(X_test,y_test),epochs=100,batch_size=32)"
      ],
      "execution_count": null,
      "outputs": [
        {
          "output_type": "stream",
          "text": [
            "Epoch 1/100\n",
            "784/784 [==============================] - 15s 19ms/step - loss: 0.0143 - accuracy: 0.9948 - val_loss: 0.9403 - val_accuracy: 0.8689\n",
            "Epoch 2/100\n",
            "784/784 [==============================] - 14s 18ms/step - loss: 0.0112 - accuracy: 0.9954 - val_loss: 1.0291 - val_accuracy: 0.8637\n",
            "Epoch 3/100\n",
            "784/784 [==============================] - 14s 18ms/step - loss: 0.0142 - accuracy: 0.9950 - val_loss: 0.9710 - val_accuracy: 0.8684\n",
            "Epoch 4/100\n",
            "784/784 [==============================] - 14s 18ms/step - loss: 0.0183 - accuracy: 0.9932 - val_loss: 0.8766 - val_accuracy: 0.8626\n",
            "Epoch 5/100\n",
            "784/784 [==============================] - 14s 18ms/step - loss: 0.0148 - accuracy: 0.9945 - val_loss: 0.9427 - val_accuracy: 0.8653\n",
            "Epoch 6/100\n",
            "784/784 [==============================] - 14s 18ms/step - loss: 0.0124 - accuracy: 0.9954 - val_loss: 0.9779 - val_accuracy: 0.8632\n",
            "Epoch 7/100\n",
            "784/784 [==============================] - 14s 18ms/step - loss: 0.0109 - accuracy: 0.9957 - val_loss: 1.0054 - val_accuracy: 0.8655\n",
            "Epoch 8/100\n",
            "784/784 [==============================] - 14s 18ms/step - loss: 0.0099 - accuracy: 0.9955 - val_loss: 1.0801 - val_accuracy: 0.8640\n",
            "Epoch 9/100\n",
            "784/784 [==============================] - 14s 18ms/step - loss: 0.0168 - accuracy: 0.9940 - val_loss: 0.8949 - val_accuracy: 0.8674\n",
            "Epoch 10/100\n",
            "784/784 [==============================] - 14s 18ms/step - loss: 0.0137 - accuracy: 0.9950 - val_loss: 0.9368 - val_accuracy: 0.8690\n",
            "Epoch 11/100\n",
            "784/784 [==============================] - 14s 18ms/step - loss: 0.0129 - accuracy: 0.9950 - val_loss: 0.9439 - val_accuracy: 0.8629\n",
            "Epoch 12/100\n",
            "784/784 [==============================] - 14s 18ms/step - loss: 0.0107 - accuracy: 0.9957 - val_loss: 0.9617 - val_accuracy: 0.8688\n",
            "Epoch 13/100\n",
            "784/784 [==============================] - 14s 18ms/step - loss: 0.0104 - accuracy: 0.9958 - val_loss: 0.9751 - val_accuracy: 0.8673\n",
            "Epoch 14/100\n",
            "784/784 [==============================] - 14s 18ms/step - loss: 0.0106 - accuracy: 0.9957 - val_loss: 0.9621 - val_accuracy: 0.8667\n",
            "Epoch 15/100\n",
            "784/784 [==============================] - 14s 18ms/step - loss: 0.0129 - accuracy: 0.9951 - val_loss: 0.9525 - val_accuracy: 0.8654\n",
            "Epoch 16/100\n",
            "784/784 [==============================] - 14s 18ms/step - loss: 0.0122 - accuracy: 0.9947 - val_loss: 0.9506 - val_accuracy: 0.8662\n",
            "Epoch 17/100\n",
            "784/784 [==============================] - 14s 18ms/step - loss: 0.0114 - accuracy: 0.9952 - val_loss: 0.9854 - val_accuracy: 0.8679\n",
            "Epoch 18/100\n",
            "784/784 [==============================] - 14s 18ms/step - loss: 0.0100 - accuracy: 0.9957 - val_loss: 1.0443 - val_accuracy: 0.8679\n",
            "Epoch 19/100\n",
            "784/784 [==============================] - 14s 18ms/step - loss: 0.0097 - accuracy: 0.9960 - val_loss: 1.0136 - val_accuracy: 0.8668\n",
            "Epoch 20/100\n",
            "784/784 [==============================] - 14s 18ms/step - loss: 0.0096 - accuracy: 0.9964 - val_loss: 1.0923 - val_accuracy: 0.8677\n",
            "Epoch 21/100\n",
            "784/784 [==============================] - 15s 19ms/step - loss: 0.0132 - accuracy: 0.9950 - val_loss: 1.0195 - val_accuracy: 0.8592\n",
            "Epoch 22/100\n",
            "784/784 [==============================] - 14s 18ms/step - loss: 0.0125 - accuracy: 0.9949 - val_loss: 0.9656 - val_accuracy: 0.8701\n",
            "Epoch 23/100\n",
            "784/784 [==============================] - 14s 18ms/step - loss: 0.0107 - accuracy: 0.9956 - val_loss: 1.0005 - val_accuracy: 0.8690\n",
            "Epoch 24/100\n",
            "784/784 [==============================] - 14s 18ms/step - loss: 0.0090 - accuracy: 0.9960 - val_loss: 1.0589 - val_accuracy: 0.8655\n",
            "Epoch 25/100\n",
            "784/784 [==============================] - 15s 19ms/step - loss: 0.0089 - accuracy: 0.9957 - val_loss: 1.0885 - val_accuracy: 0.8654\n",
            "Epoch 26/100\n",
            "784/784 [==============================] - 14s 18ms/step - loss: 0.0093 - accuracy: 0.9964 - val_loss: 1.0791 - val_accuracy: 0.8660\n",
            "Epoch 27/100\n",
            "784/784 [==============================] - 14s 18ms/step - loss: 0.0102 - accuracy: 0.9956 - val_loss: 0.9855 - val_accuracy: 0.8626\n",
            "Epoch 28/100\n",
            "784/784 [==============================] - 15s 19ms/step - loss: 0.0157 - accuracy: 0.9936 - val_loss: 0.9134 - val_accuracy: 0.8642\n",
            "Epoch 29/100\n",
            "784/784 [==============================] - 14s 18ms/step - loss: 0.0100 - accuracy: 0.9956 - val_loss: 1.0141 - val_accuracy: 0.8644\n",
            "Epoch 30/100\n",
            "784/784 [==============================] - 14s 18ms/step - loss: 0.0085 - accuracy: 0.9961 - val_loss: 1.0856 - val_accuracy: 0.8689\n",
            "Epoch 31/100\n",
            "784/784 [==============================] - 14s 18ms/step - loss: 0.0085 - accuracy: 0.9963 - val_loss: 1.0963 - val_accuracy: 0.8677\n",
            "Epoch 32/100\n",
            "784/784 [==============================] - 15s 19ms/step - loss: 0.0084 - accuracy: 0.9961 - val_loss: 1.1466 - val_accuracy: 0.8691\n",
            "Epoch 33/100\n",
            "784/784 [==============================] - 14s 18ms/step - loss: 0.0084 - accuracy: 0.9963 - val_loss: 1.1499 - val_accuracy: 0.8679\n",
            "Epoch 34/100\n",
            "784/784 [==============================] - 14s 18ms/step - loss: 0.0085 - accuracy: 0.9961 - val_loss: 1.2066 - val_accuracy: 0.8689\n",
            "Epoch 35/100\n",
            "784/784 [==============================] - 14s 18ms/step - loss: 0.0085 - accuracy: 0.9961 - val_loss: 1.2377 - val_accuracy: 0.8701\n",
            "Epoch 36/100\n",
            "784/784 [==============================] - 14s 18ms/step - loss: 0.0084 - accuracy: 0.9961 - val_loss: 1.2598 - val_accuracy: 0.8690\n",
            "Epoch 37/100\n",
            "784/784 [==============================] - 14s 18ms/step - loss: 0.0083 - accuracy: 0.9963 - val_loss: 1.2924 - val_accuracy: 0.8692\n",
            "Epoch 38/100\n",
            "784/784 [==============================] - 14s 18ms/step - loss: 0.0129 - accuracy: 0.9950 - val_loss: 1.0670 - val_accuracy: 0.8616\n",
            "Epoch 39/100\n",
            "784/784 [==============================] - 14s 18ms/step - loss: 0.0178 - accuracy: 0.9933 - val_loss: 0.8889 - val_accuracy: 0.8605\n",
            "Epoch 40/100\n",
            "784/784 [==============================] - 14s 18ms/step - loss: 0.0095 - accuracy: 0.9958 - val_loss: 0.9776 - val_accuracy: 0.8647\n",
            "Epoch 41/100\n",
            "784/784 [==============================] - 15s 19ms/step - loss: 0.0082 - accuracy: 0.9965 - val_loss: 1.0204 - val_accuracy: 0.8676\n",
            "Epoch 42/100\n",
            "784/784 [==============================] - 15s 19ms/step - loss: 0.0081 - accuracy: 0.9965 - val_loss: 1.0534 - val_accuracy: 0.8659\n",
            "Epoch 43/100\n",
            "784/784 [==============================] - 14s 18ms/step - loss: 0.0081 - accuracy: 0.9963 - val_loss: 1.0958 - val_accuracy: 0.8667\n",
            "Epoch 44/100\n",
            "784/784 [==============================] - 14s 18ms/step - loss: 0.0080 - accuracy: 0.9963 - val_loss: 1.1196 - val_accuracy: 0.8669\n",
            "Epoch 45/100\n",
            "784/784 [==============================] - 14s 18ms/step - loss: 0.0083 - accuracy: 0.9963 - val_loss: 1.1589 - val_accuracy: 0.8665\n",
            "Epoch 46/100\n",
            "784/784 [==============================] - 15s 19ms/step - loss: 0.0082 - accuracy: 0.9963 - val_loss: 1.1834 - val_accuracy: 0.8665\n",
            "Epoch 47/100\n",
            "784/784 [==============================] - 14s 18ms/step - loss: 0.0081 - accuracy: 0.9964 - val_loss: 1.2222 - val_accuracy: 0.8660\n",
            "Epoch 48/100\n",
            "784/784 [==============================] - 15s 19ms/step - loss: 0.0081 - accuracy: 0.9962 - val_loss: 1.2506 - val_accuracy: 0.8653\n",
            "Epoch 49/100\n",
            "784/784 [==============================] - 15s 19ms/step - loss: 0.0086 - accuracy: 0.9966 - val_loss: 1.3425 - val_accuracy: 0.8667\n",
            "Epoch 50/100\n",
            "784/784 [==============================] - 15s 19ms/step - loss: 0.0163 - accuracy: 0.9937 - val_loss: 0.9533 - val_accuracy: 0.8602\n",
            "Epoch 51/100\n",
            "784/784 [==============================] - 15s 19ms/step - loss: 0.0134 - accuracy: 0.9951 - val_loss: 0.9026 - val_accuracy: 0.8671\n",
            "Epoch 52/100\n",
            "784/784 [==============================] - 15s 19ms/step - loss: 0.0096 - accuracy: 0.9957 - val_loss: 0.9994 - val_accuracy: 0.8657\n",
            "Epoch 53/100\n",
            "784/784 [==============================] - 15s 19ms/step - loss: 0.0082 - accuracy: 0.9963 - val_loss: 1.0489 - val_accuracy: 0.8662\n",
            "Epoch 54/100\n",
            "784/784 [==============================] - 15s 19ms/step - loss: 0.0080 - accuracy: 0.9962 - val_loss: 1.0734 - val_accuracy: 0.8667\n",
            "Epoch 55/100\n",
            "784/784 [==============================] - 14s 18ms/step - loss: 0.0080 - accuracy: 0.9963 - val_loss: 1.0953 - val_accuracy: 0.8658\n",
            "Epoch 56/100\n",
            "784/784 [==============================] - 14s 18ms/step - loss: 0.0080 - accuracy: 0.9962 - val_loss: 1.1238 - val_accuracy: 0.8657\n",
            "Epoch 57/100\n",
            "784/784 [==============================] - 15s 19ms/step - loss: 0.0080 - accuracy: 0.9962 - val_loss: 1.1592 - val_accuracy: 0.8674\n",
            "Epoch 58/100\n",
            "784/784 [==============================] - 15s 19ms/step - loss: 0.0080 - accuracy: 0.9963 - val_loss: 1.2026 - val_accuracy: 0.8681\n",
            "Epoch 59/100\n",
            "784/784 [==============================] - 15s 19ms/step - loss: 0.0080 - accuracy: 0.9965 - val_loss: 1.2326 - val_accuracy: 0.8679\n",
            "Epoch 60/100\n",
            "784/784 [==============================] - 14s 18ms/step - loss: 0.0080 - accuracy: 0.9965 - val_loss: 1.2370 - val_accuracy: 0.8656\n",
            "Epoch 61/100\n",
            "784/784 [==============================] - 14s 18ms/step - loss: 0.0080 - accuracy: 0.9963 - val_loss: 1.2894 - val_accuracy: 0.8673\n",
            "Epoch 62/100\n",
            "784/784 [==============================] - 15s 19ms/step - loss: 0.0081 - accuracy: 0.9962 - val_loss: 1.2863 - val_accuracy: 0.8685\n",
            "Epoch 63/100\n",
            "784/784 [==============================] - 14s 18ms/step - loss: 0.0080 - accuracy: 0.9965 - val_loss: 1.3581 - val_accuracy: 0.8682\n",
            "Epoch 64/100\n",
            "784/784 [==============================] - 15s 19ms/step - loss: 0.0082 - accuracy: 0.9963 - val_loss: 1.4690 - val_accuracy: 0.8637\n",
            "Epoch 65/100\n",
            "784/784 [==============================] - 16s 20ms/step - loss: 0.0206 - accuracy: 0.9933 - val_loss: 0.9399 - val_accuracy: 0.8615\n",
            "Epoch 66/100\n",
            "784/784 [==============================] - 15s 20ms/step - loss: 0.0132 - accuracy: 0.9949 - val_loss: 1.0067 - val_accuracy: 0.8562\n",
            "Epoch 67/100\n",
            "784/784 [==============================] - 15s 19ms/step - loss: 0.0086 - accuracy: 0.9961 - val_loss: 1.0148 - val_accuracy: 0.8629\n",
            "Epoch 68/100\n",
            "784/784 [==============================] - 15s 19ms/step - loss: 0.0079 - accuracy: 0.9965 - val_loss: 1.0712 - val_accuracy: 0.8642\n",
            "Epoch 69/100\n",
            "784/784 [==============================] - 15s 19ms/step - loss: 0.0079 - accuracy: 0.9962 - val_loss: 1.1109 - val_accuracy: 0.8648\n",
            "Epoch 70/100\n",
            "784/784 [==============================] - 14s 18ms/step - loss: 0.0079 - accuracy: 0.9964 - val_loss: 1.1408 - val_accuracy: 0.8650\n",
            "Epoch 71/100\n",
            "784/784 [==============================] - 14s 18ms/step - loss: 0.0079 - accuracy: 0.9965 - val_loss: 1.1740 - val_accuracy: 0.8651\n",
            "Epoch 72/100\n",
            "784/784 [==============================] - 14s 18ms/step - loss: 0.0079 - accuracy: 0.9967 - val_loss: 1.2091 - val_accuracy: 0.8653\n",
            "Epoch 73/100\n",
            "784/784 [==============================] - 15s 19ms/step - loss: 0.0079 - accuracy: 0.9963 - val_loss: 1.2455 - val_accuracy: 0.8647\n",
            "Epoch 74/100\n",
            "784/784 [==============================] - 14s 18ms/step - loss: 0.0079 - accuracy: 0.9966 - val_loss: 1.2617 - val_accuracy: 0.8652\n",
            "Epoch 75/100\n",
            "784/784 [==============================] - 15s 19ms/step - loss: 0.0079 - accuracy: 0.9963 - val_loss: 1.3117 - val_accuracy: 0.8653\n",
            "Epoch 76/100\n",
            "784/784 [==============================] - 15s 19ms/step - loss: 0.0080 - accuracy: 0.9963 - val_loss: 1.3373 - val_accuracy: 0.8645\n",
            "Epoch 77/100\n",
            "784/784 [==============================] - 15s 19ms/step - loss: 0.0080 - accuracy: 0.9963 - val_loss: 1.3615 - val_accuracy: 0.8657\n",
            "Epoch 78/100\n",
            "784/784 [==============================] - 15s 19ms/step - loss: 0.0083 - accuracy: 0.9958 - val_loss: 1.4563 - val_accuracy: 0.8611\n",
            "Epoch 79/100\n",
            "784/784 [==============================] - 15s 19ms/step - loss: 0.0177 - accuracy: 0.9936 - val_loss: 1.0007 - val_accuracy: 0.8625\n",
            "Epoch 80/100\n",
            "784/784 [==============================] - 15s 19ms/step - loss: 0.0116 - accuracy: 0.9955 - val_loss: 0.9899 - val_accuracy: 0.8648\n",
            "Epoch 81/100\n",
            "784/784 [==============================] - 15s 19ms/step - loss: 0.0082 - accuracy: 0.9965 - val_loss: 1.0301 - val_accuracy: 0.8663\n",
            "Epoch 82/100\n",
            "784/784 [==============================] - 15s 19ms/step - loss: 0.0079 - accuracy: 0.9965 - val_loss: 1.0740 - val_accuracy: 0.8665\n",
            "Epoch 83/100\n",
            "784/784 [==============================] - 15s 19ms/step - loss: 0.0079 - accuracy: 0.9964 - val_loss: 1.0992 - val_accuracy: 0.8668\n",
            "Epoch 84/100\n",
            "784/784 [==============================] - 15s 19ms/step - loss: 0.0079 - accuracy: 0.9962 - val_loss: 1.1359 - val_accuracy: 0.8667\n",
            "Epoch 85/100\n",
            "784/784 [==============================] - 15s 19ms/step - loss: 0.0079 - accuracy: 0.9964 - val_loss: 1.1567 - val_accuracy: 0.8672\n",
            "Epoch 86/100\n",
            "784/784 [==============================] - 15s 19ms/step - loss: 0.0079 - accuracy: 0.9965 - val_loss: 1.1942 - val_accuracy: 0.8676\n",
            "Epoch 87/100\n",
            "784/784 [==============================] - 16s 20ms/step - loss: 0.0078 - accuracy: 0.9964 - val_loss: 1.2255 - val_accuracy: 0.8670\n",
            "Epoch 88/100\n",
            "784/784 [==============================] - 15s 20ms/step - loss: 0.0079 - accuracy: 0.9965 - val_loss: 1.2483 - val_accuracy: 0.8675\n",
            "Epoch 89/100\n",
            "784/784 [==============================] - 15s 19ms/step - loss: 0.0079 - accuracy: 0.9964 - val_loss: 1.2837 - val_accuracy: 0.8678\n",
            "Epoch 90/100\n",
            "784/784 [==============================] - 15s 19ms/step - loss: 0.0078 - accuracy: 0.9966 - val_loss: 1.3226 - val_accuracy: 0.8675\n",
            "Epoch 91/100\n",
            "784/784 [==============================] - 15s 19ms/step - loss: 0.0130 - accuracy: 0.9951 - val_loss: 1.0359 - val_accuracy: 0.8642\n",
            "Epoch 92/100\n",
            "784/784 [==============================] - 15s 19ms/step - loss: 0.0151 - accuracy: 0.9942 - val_loss: 0.9610 - val_accuracy: 0.8645\n",
            "Epoch 93/100\n",
            "784/784 [==============================] - 15s 19ms/step - loss: 0.0095 - accuracy: 0.9964 - val_loss: 0.9940 - val_accuracy: 0.8655\n",
            "Epoch 94/100\n",
            "784/784 [==============================] - 15s 19ms/step - loss: 0.0084 - accuracy: 0.9961 - val_loss: 1.0359 - val_accuracy: 0.8657\n",
            "Epoch 95/100\n",
            "784/784 [==============================] - 16s 20ms/step - loss: 0.0079 - accuracy: 0.9963 - val_loss: 1.0653 - val_accuracy: 0.8679\n",
            "Epoch 96/100\n",
            "784/784 [==============================] - 15s 20ms/step - loss: 0.0079 - accuracy: 0.9966 - val_loss: 1.1043 - val_accuracy: 0.8671\n",
            "Epoch 97/100\n",
            "784/784 [==============================] - 15s 19ms/step - loss: 0.0079 - accuracy: 0.9965 - val_loss: 1.1185 - val_accuracy: 0.8667\n",
            "Epoch 98/100\n",
            "784/784 [==============================] - 15s 19ms/step - loss: 0.0078 - accuracy: 0.9961 - val_loss: 1.1567 - val_accuracy: 0.8666\n",
            "Epoch 99/100\n",
            "784/784 [==============================] - 15s 19ms/step - loss: 0.0078 - accuracy: 0.9965 - val_loss: 1.1721 - val_accuracy: 0.8658\n",
            "Epoch 100/100\n",
            "784/784 [==============================] - 15s 19ms/step - loss: 0.0079 - accuracy: 0.9963 - val_loss: 1.2078 - val_accuracy: 0.8662\n"
          ],
          "name": "stdout"
        },
        {
          "output_type": "execute_result",
          "data": {
            "text/plain": [
              "<tensorflow.python.keras.callbacks.History at 0x7fbf2c83e410>"
            ]
          },
          "metadata": {
            "tags": []
          },
          "execution_count": 108
        }
      ]
    },
    {
      "cell_type": "markdown",
      "metadata": {
        "id": "a3M_e2ru70mN"
      },
      "source": [
        "### Performance Metrics And Accuracy"
      ]
    },
    {
      "cell_type": "code",
      "metadata": {
        "id": "M0VeZ7Lb70mO"
      },
      "source": [
        "y_pred=model.predict_classes(X_test)"
      ],
      "execution_count": null,
      "outputs": []
    },
    {
      "cell_type": "code",
      "metadata": {
        "id": "QUhfBlTp70mO"
      },
      "source": [
        "from sklearn.metrics import confusion_matrix"
      ],
      "execution_count": null,
      "outputs": []
    },
    {
      "cell_type": "code",
      "metadata": {
        "colab": {
          "base_uri": "https://localhost:8080/"
        },
        "id": "-Cdctq2770mO",
        "outputId": "245c08c6-acb8-4d1e-caef-f053fb328a03"
      },
      "source": [
        "confusion_matrix(y_test,y_pred)"
      ],
      "execution_count": null,
      "outputs": [
        {
          "output_type": "execute_result",
          "data": {
            "text/plain": [
              "array([[7244,  421,  192],\n",
              "       [ 452, 2131,  151],\n",
              "       [ 306,  131, 1323]])"
            ]
          },
          "metadata": {
            "tags": []
          },
          "execution_count": 111
        }
      ]
    },
    {
      "cell_type": "code",
      "metadata": {
        "colab": {
          "base_uri": "https://localhost:8080/"
        },
        "id": "K-FVF3NR70mO",
        "outputId": "b462593a-6fbf-4b88-e000-40b299fd1fd3"
      },
      "source": [
        "from sklearn.metrics import accuracy_score\n",
        "accuracy_score(y_test,y_pred)"
      ],
      "execution_count": null,
      "outputs": [
        {
          "output_type": "execute_result",
          "data": {
            "text/plain": [
              "0.8661646830216176"
            ]
          },
          "metadata": {
            "tags": []
          },
          "execution_count": 112
        }
      ]
    },
    {
      "cell_type": "code",
      "metadata": {
        "id": "4iRolVPW70mO"
      },
      "source": [
        ""
      ],
      "execution_count": null,
      "outputs": []
    }
  ]
}